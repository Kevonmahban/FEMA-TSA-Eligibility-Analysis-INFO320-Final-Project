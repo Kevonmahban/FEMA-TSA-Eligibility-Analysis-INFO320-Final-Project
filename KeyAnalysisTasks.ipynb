{
  "nbformat": 4,
  "nbformat_minor": 0,
  "metadata": {
    "colab": {
      "provenance": []
    },
    "kernelspec": {
      "name": "python3",
      "display_name": "Python 3"
    },
    "language_info": {
      "name": "python"
    }
  },
  "cells": [
    {
      "cell_type": "code",
      "execution_count": null,
      "metadata": {
        "id": "I-uRGgAtQ3X0"
      },
      "outputs": [],
      "source": [
        "import pandas as pd\n",
        "import numpy as np"
      ]
    },
    {
      "cell_type": "code",
      "source": [
        "df = pd.read_csv('/content/final_project_FEMA.csv')"
      ],
      "metadata": {
        "id": "06c5NvQnRzTn"
      },
      "execution_count": null,
      "outputs": []
    },
    {
      "cell_type": "code",
      "source": [
        "#Check the first few rows of the data\n",
        "df.head()"
      ],
      "metadata": {
        "colab": {
          "base_uri": "https://localhost:8080/",
          "height": 206
        },
        "id": "vQukD5s7SBEs",
        "outputId": "760f4312-e2e0-4970-d6a5-f5d295e1e5f1"
      },
      "execution_count": null,
      "outputs": [
        {
          "output_type": "execute_result",
          "data": {
            "text/plain": [
              "   specialNeeds damagedCity damagedStateAbbreviation  roofDamage  \\\n",
              "0             0    SARASOTA                       FL           0   \n",
              "1             0     SULPHUR                       LA           0   \n",
              "2             0     HOUSTON                       TX           0   \n",
              "3             0    RICHMOND                       TX           0   \n",
              "4             0      OVIEDO                       FL           0   \n",
              "\n",
              "   foundationDamage  disasterNumber  householdComposition  destroyed  \\\n",
              "0                 0            4337                     1          0   \n",
              "1                 0            4559                     4          0   \n",
              "2                 0            4332                     1          0   \n",
              "3                 0            4332                     1          0   \n",
              "4                 0            4337                     4          0   \n",
              "\n",
              "  residenceType  repairAmount  tsaEligible  grossIncome  waterLevel  \n",
              "0         Condo           0.0            0          0.0         0.0  \n",
              "1     Apartment           0.0            0      55000.0         0.0  \n",
              "2     Apartment           0.0            1      23000.0         0.0  \n",
              "3  House/Duplex           0.0            0      80000.0         0.0  \n",
              "4  House/Duplex           0.0            0          0.0         0.0  "
            ],
            "text/html": [
              "\n",
              "  <div id=\"df-8a58e255-f180-47cb-b1a3-0201195a0800\" class=\"colab-df-container\">\n",
              "    <div>\n",
              "<style scoped>\n",
              "    .dataframe tbody tr th:only-of-type {\n",
              "        vertical-align: middle;\n",
              "    }\n",
              "\n",
              "    .dataframe tbody tr th {\n",
              "        vertical-align: top;\n",
              "    }\n",
              "\n",
              "    .dataframe thead th {\n",
              "        text-align: right;\n",
              "    }\n",
              "</style>\n",
              "<table border=\"1\" class=\"dataframe\">\n",
              "  <thead>\n",
              "    <tr style=\"text-align: right;\">\n",
              "      <th></th>\n",
              "      <th>specialNeeds</th>\n",
              "      <th>damagedCity</th>\n",
              "      <th>damagedStateAbbreviation</th>\n",
              "      <th>roofDamage</th>\n",
              "      <th>foundationDamage</th>\n",
              "      <th>disasterNumber</th>\n",
              "      <th>householdComposition</th>\n",
              "      <th>destroyed</th>\n",
              "      <th>residenceType</th>\n",
              "      <th>repairAmount</th>\n",
              "      <th>tsaEligible</th>\n",
              "      <th>grossIncome</th>\n",
              "      <th>waterLevel</th>\n",
              "    </tr>\n",
              "  </thead>\n",
              "  <tbody>\n",
              "    <tr>\n",
              "      <th>0</th>\n",
              "      <td>0</td>\n",
              "      <td>SARASOTA</td>\n",
              "      <td>FL</td>\n",
              "      <td>0</td>\n",
              "      <td>0</td>\n",
              "      <td>4337</td>\n",
              "      <td>1</td>\n",
              "      <td>0</td>\n",
              "      <td>Condo</td>\n",
              "      <td>0.0</td>\n",
              "      <td>0</td>\n",
              "      <td>0.0</td>\n",
              "      <td>0.0</td>\n",
              "    </tr>\n",
              "    <tr>\n",
              "      <th>1</th>\n",
              "      <td>0</td>\n",
              "      <td>SULPHUR</td>\n",
              "      <td>LA</td>\n",
              "      <td>0</td>\n",
              "      <td>0</td>\n",
              "      <td>4559</td>\n",
              "      <td>4</td>\n",
              "      <td>0</td>\n",
              "      <td>Apartment</td>\n",
              "      <td>0.0</td>\n",
              "      <td>0</td>\n",
              "      <td>55000.0</td>\n",
              "      <td>0.0</td>\n",
              "    </tr>\n",
              "    <tr>\n",
              "      <th>2</th>\n",
              "      <td>0</td>\n",
              "      <td>HOUSTON</td>\n",
              "      <td>TX</td>\n",
              "      <td>0</td>\n",
              "      <td>0</td>\n",
              "      <td>4332</td>\n",
              "      <td>1</td>\n",
              "      <td>0</td>\n",
              "      <td>Apartment</td>\n",
              "      <td>0.0</td>\n",
              "      <td>1</td>\n",
              "      <td>23000.0</td>\n",
              "      <td>0.0</td>\n",
              "    </tr>\n",
              "    <tr>\n",
              "      <th>3</th>\n",
              "      <td>0</td>\n",
              "      <td>RICHMOND</td>\n",
              "      <td>TX</td>\n",
              "      <td>0</td>\n",
              "      <td>0</td>\n",
              "      <td>4332</td>\n",
              "      <td>1</td>\n",
              "      <td>0</td>\n",
              "      <td>House/Duplex</td>\n",
              "      <td>0.0</td>\n",
              "      <td>0</td>\n",
              "      <td>80000.0</td>\n",
              "      <td>0.0</td>\n",
              "    </tr>\n",
              "    <tr>\n",
              "      <th>4</th>\n",
              "      <td>0</td>\n",
              "      <td>OVIEDO</td>\n",
              "      <td>FL</td>\n",
              "      <td>0</td>\n",
              "      <td>0</td>\n",
              "      <td>4337</td>\n",
              "      <td>4</td>\n",
              "      <td>0</td>\n",
              "      <td>House/Duplex</td>\n",
              "      <td>0.0</td>\n",
              "      <td>0</td>\n",
              "      <td>0.0</td>\n",
              "      <td>0.0</td>\n",
              "    </tr>\n",
              "  </tbody>\n",
              "</table>\n",
              "</div>\n",
              "    <div class=\"colab-df-buttons\">\n",
              "\n",
              "  <div class=\"colab-df-container\">\n",
              "    <button class=\"colab-df-convert\" onclick=\"convertToInteractive('df-8a58e255-f180-47cb-b1a3-0201195a0800')\"\n",
              "            title=\"Convert this dataframe to an interactive table.\"\n",
              "            style=\"display:none;\">\n",
              "\n",
              "  <svg xmlns=\"http://www.w3.org/2000/svg\" height=\"24px\" viewBox=\"0 -960 960 960\">\n",
              "    <path d=\"M120-120v-720h720v720H120Zm60-500h600v-160H180v160Zm220 220h160v-160H400v160Zm0 220h160v-160H400v160ZM180-400h160v-160H180v160Zm440 0h160v-160H620v160ZM180-180h160v-160H180v160Zm440 0h160v-160H620v160Z\"/>\n",
              "  </svg>\n",
              "    </button>\n",
              "\n",
              "  <style>\n",
              "    .colab-df-container {\n",
              "      display:flex;\n",
              "      gap: 12px;\n",
              "    }\n",
              "\n",
              "    .colab-df-convert {\n",
              "      background-color: #E8F0FE;\n",
              "      border: none;\n",
              "      border-radius: 50%;\n",
              "      cursor: pointer;\n",
              "      display: none;\n",
              "      fill: #1967D2;\n",
              "      height: 32px;\n",
              "      padding: 0 0 0 0;\n",
              "      width: 32px;\n",
              "    }\n",
              "\n",
              "    .colab-df-convert:hover {\n",
              "      background-color: #E2EBFA;\n",
              "      box-shadow: 0px 1px 2px rgba(60, 64, 67, 0.3), 0px 1px 3px 1px rgba(60, 64, 67, 0.15);\n",
              "      fill: #174EA6;\n",
              "    }\n",
              "\n",
              "    .colab-df-buttons div {\n",
              "      margin-bottom: 4px;\n",
              "    }\n",
              "\n",
              "    [theme=dark] .colab-df-convert {\n",
              "      background-color: #3B4455;\n",
              "      fill: #D2E3FC;\n",
              "    }\n",
              "\n",
              "    [theme=dark] .colab-df-convert:hover {\n",
              "      background-color: #434B5C;\n",
              "      box-shadow: 0px 1px 3px 1px rgba(0, 0, 0, 0.15);\n",
              "      filter: drop-shadow(0px 1px 2px rgba(0, 0, 0, 0.3));\n",
              "      fill: #FFFFFF;\n",
              "    }\n",
              "  </style>\n",
              "\n",
              "    <script>\n",
              "      const buttonEl =\n",
              "        document.querySelector('#df-8a58e255-f180-47cb-b1a3-0201195a0800 button.colab-df-convert');\n",
              "      buttonEl.style.display =\n",
              "        google.colab.kernel.accessAllowed ? 'block' : 'none';\n",
              "\n",
              "      async function convertToInteractive(key) {\n",
              "        const element = document.querySelector('#df-8a58e255-f180-47cb-b1a3-0201195a0800');\n",
              "        const dataTable =\n",
              "          await google.colab.kernel.invokeFunction('convertToInteractive',\n",
              "                                                    [key], {});\n",
              "        if (!dataTable) return;\n",
              "\n",
              "        const docLinkHtml = 'Like what you see? Visit the ' +\n",
              "          '<a target=\"_blank\" href=https://colab.research.google.com/notebooks/data_table.ipynb>data table notebook</a>'\n",
              "          + ' to learn more about interactive tables.';\n",
              "        element.innerHTML = '';\n",
              "        dataTable['output_type'] = 'display_data';\n",
              "        await google.colab.output.renderOutput(dataTable, element);\n",
              "        const docLink = document.createElement('div');\n",
              "        docLink.innerHTML = docLinkHtml;\n",
              "        element.appendChild(docLink);\n",
              "      }\n",
              "    </script>\n",
              "  </div>\n",
              "\n",
              "\n",
              "<div id=\"df-cc9791b4-71bc-4dd2-bc4f-cf4b1d5c2484\">\n",
              "  <button class=\"colab-df-quickchart\" onclick=\"quickchart('df-cc9791b4-71bc-4dd2-bc4f-cf4b1d5c2484')\"\n",
              "            title=\"Suggest charts\"\n",
              "            style=\"display:none;\">\n",
              "\n",
              "<svg xmlns=\"http://www.w3.org/2000/svg\" height=\"24px\"viewBox=\"0 0 24 24\"\n",
              "     width=\"24px\">\n",
              "    <g>\n",
              "        <path d=\"M19 3H5c-1.1 0-2 .9-2 2v14c0 1.1.9 2 2 2h14c1.1 0 2-.9 2-2V5c0-1.1-.9-2-2-2zM9 17H7v-7h2v7zm4 0h-2V7h2v10zm4 0h-2v-4h2v4z\"/>\n",
              "    </g>\n",
              "</svg>\n",
              "  </button>\n",
              "\n",
              "<style>\n",
              "  .colab-df-quickchart {\n",
              "      --bg-color: #E8F0FE;\n",
              "      --fill-color: #1967D2;\n",
              "      --hover-bg-color: #E2EBFA;\n",
              "      --hover-fill-color: #174EA6;\n",
              "      --disabled-fill-color: #AAA;\n",
              "      --disabled-bg-color: #DDD;\n",
              "  }\n",
              "\n",
              "  [theme=dark] .colab-df-quickchart {\n",
              "      --bg-color: #3B4455;\n",
              "      --fill-color: #D2E3FC;\n",
              "      --hover-bg-color: #434B5C;\n",
              "      --hover-fill-color: #FFFFFF;\n",
              "      --disabled-bg-color: #3B4455;\n",
              "      --disabled-fill-color: #666;\n",
              "  }\n",
              "\n",
              "  .colab-df-quickchart {\n",
              "    background-color: var(--bg-color);\n",
              "    border: none;\n",
              "    border-radius: 50%;\n",
              "    cursor: pointer;\n",
              "    display: none;\n",
              "    fill: var(--fill-color);\n",
              "    height: 32px;\n",
              "    padding: 0;\n",
              "    width: 32px;\n",
              "  }\n",
              "\n",
              "  .colab-df-quickchart:hover {\n",
              "    background-color: var(--hover-bg-color);\n",
              "    box-shadow: 0 1px 2px rgba(60, 64, 67, 0.3), 0 1px 3px 1px rgba(60, 64, 67, 0.15);\n",
              "    fill: var(--button-hover-fill-color);\n",
              "  }\n",
              "\n",
              "  .colab-df-quickchart-complete:disabled,\n",
              "  .colab-df-quickchart-complete:disabled:hover {\n",
              "    background-color: var(--disabled-bg-color);\n",
              "    fill: var(--disabled-fill-color);\n",
              "    box-shadow: none;\n",
              "  }\n",
              "\n",
              "  .colab-df-spinner {\n",
              "    border: 2px solid var(--fill-color);\n",
              "    border-color: transparent;\n",
              "    border-bottom-color: var(--fill-color);\n",
              "    animation:\n",
              "      spin 1s steps(1) infinite;\n",
              "  }\n",
              "\n",
              "  @keyframes spin {\n",
              "    0% {\n",
              "      border-color: transparent;\n",
              "      border-bottom-color: var(--fill-color);\n",
              "      border-left-color: var(--fill-color);\n",
              "    }\n",
              "    20% {\n",
              "      border-color: transparent;\n",
              "      border-left-color: var(--fill-color);\n",
              "      border-top-color: var(--fill-color);\n",
              "    }\n",
              "    30% {\n",
              "      border-color: transparent;\n",
              "      border-left-color: var(--fill-color);\n",
              "      border-top-color: var(--fill-color);\n",
              "      border-right-color: var(--fill-color);\n",
              "    }\n",
              "    40% {\n",
              "      border-color: transparent;\n",
              "      border-right-color: var(--fill-color);\n",
              "      border-top-color: var(--fill-color);\n",
              "    }\n",
              "    60% {\n",
              "      border-color: transparent;\n",
              "      border-right-color: var(--fill-color);\n",
              "    }\n",
              "    80% {\n",
              "      border-color: transparent;\n",
              "      border-right-color: var(--fill-color);\n",
              "      border-bottom-color: var(--fill-color);\n",
              "    }\n",
              "    90% {\n",
              "      border-color: transparent;\n",
              "      border-bottom-color: var(--fill-color);\n",
              "    }\n",
              "  }\n",
              "</style>\n",
              "\n",
              "  <script>\n",
              "    async function quickchart(key) {\n",
              "      const quickchartButtonEl =\n",
              "        document.querySelector('#' + key + ' button');\n",
              "      quickchartButtonEl.disabled = true;  // To prevent multiple clicks.\n",
              "      quickchartButtonEl.classList.add('colab-df-spinner');\n",
              "      try {\n",
              "        const charts = await google.colab.kernel.invokeFunction(\n",
              "            'suggestCharts', [key], {});\n",
              "      } catch (error) {\n",
              "        console.error('Error during call to suggestCharts:', error);\n",
              "      }\n",
              "      quickchartButtonEl.classList.remove('colab-df-spinner');\n",
              "      quickchartButtonEl.classList.add('colab-df-quickchart-complete');\n",
              "    }\n",
              "    (() => {\n",
              "      let quickchartButtonEl =\n",
              "        document.querySelector('#df-cc9791b4-71bc-4dd2-bc4f-cf4b1d5c2484 button');\n",
              "      quickchartButtonEl.style.display =\n",
              "        google.colab.kernel.accessAllowed ? 'block' : 'none';\n",
              "    })();\n",
              "  </script>\n",
              "</div>\n",
              "\n",
              "    </div>\n",
              "  </div>\n"
            ],
            "application/vnd.google.colaboratory.intrinsic+json": {
              "type": "dataframe",
              "variable_name": "df"
            }
          },
          "metadata": {},
          "execution_count": 29
        }
      ]
    },
    {
      "cell_type": "code",
      "source": [
        "#Get info on column types and rows\n",
        "df.info()"
      ],
      "metadata": {
        "colab": {
          "base_uri": "https://localhost:8080/"
        },
        "id": "PUJdIr_gSfhN",
        "outputId": "fe5e3bab-f5de-402b-ba8d-854a6d15e736"
      },
      "execution_count": null,
      "outputs": [
        {
          "output_type": "stream",
          "name": "stdout",
          "text": [
            "<class 'pandas.core.frame.DataFrame'>\n",
            "RangeIndex: 4457134 entries, 0 to 4457133\n",
            "Data columns (total 13 columns):\n",
            " #   Column                    Dtype  \n",
            "---  ------                    -----  \n",
            " 0   specialNeeds              int64  \n",
            " 1   damagedCity               object \n",
            " 2   damagedStateAbbreviation  object \n",
            " 3   roofDamage                int64  \n",
            " 4   foundationDamage          int64  \n",
            " 5   disasterNumber            int64  \n",
            " 6   householdComposition      int64  \n",
            " 7   destroyed                 int64  \n",
            " 8   residenceType             object \n",
            " 9   repairAmount              float64\n",
            " 10  tsaEligible               int64  \n",
            " 11  grossIncome               float64\n",
            " 12  waterLevel                float64\n",
            "dtypes: float64(3), int64(7), object(3)\n",
            "memory usage: 442.1+ MB\n"
          ]
        }
      ]
    },
    {
      "cell_type": "code",
      "source": [
        "#Summary stats for numerical columns\n",
        "df.describe()"
      ],
      "metadata": {
        "colab": {
          "base_uri": "https://localhost:8080/",
          "height": 301
        },
        "id": "3tFbQc_hSqRy",
        "outputId": "80e8ca11-7b10-4bdf-e54e-ea4c0104f398"
      },
      "execution_count": null,
      "outputs": [
        {
          "output_type": "execute_result",
          "data": {
            "text/plain": [
              "       specialNeeds    roofDamage  foundationDamage  disasterNumber  \\\n",
              "count  4.457134e+06  4.457134e+06      4.457134e+06    4.457134e+06   \n",
              "mean   3.383295e-02  3.646873e-02      5.457094e-03    4.398283e+03   \n",
              "std    1.807990e-01  1.874534e-01      7.367032e-02    1.087934e+02   \n",
              "min    0.000000e+00  0.000000e+00      0.000000e+00    4.332000e+03   \n",
              "25%    0.000000e+00  0.000000e+00      0.000000e+00    4.337000e+03   \n",
              "50%    0.000000e+00  0.000000e+00      0.000000e+00    4.337000e+03   \n",
              "75%    0.000000e+00  0.000000e+00      0.000000e+00    4.393000e+03   \n",
              "max    1.000000e+00  1.000000e+00      1.000000e+00    4.611000e+03   \n",
              "\n",
              "       householdComposition     destroyed  repairAmount   tsaEligible  \\\n",
              "count          4.457134e+06  4.457134e+06  4.457134e+06  4.457134e+06   \n",
              "mean           2.256037e+00  1.803177e-03  3.610063e+02  3.857961e-01   \n",
              "std            1.458243e+00  4.242553e-02  2.188700e+03  4.867828e-01   \n",
              "min            1.000000e+00  0.000000e+00  0.000000e+00  0.000000e+00   \n",
              "25%            1.000000e+00  0.000000e+00  0.000000e+00  0.000000e+00   \n",
              "50%            2.000000e+00  0.000000e+00  0.000000e+00  0.000000e+00   \n",
              "75%            3.000000e+00  0.000000e+00  0.000000e+00  1.000000e+00   \n",
              "max            2.900000e+01  1.000000e+00  6.660000e+04  1.000000e+00   \n",
              "\n",
              "        grossIncome    waterLevel  \n",
              "count  4.457134e+06  4.457134e+06  \n",
              "mean   4.813283e+04  8.398361e-01  \n",
              "std    5.556604e+05  5.497640e+00  \n",
              "min    0.000000e+00  0.000000e+00  \n",
              "25%    3.936000e+03  0.000000e+00  \n",
              "50%    2.000000e+04  0.000000e+00  \n",
              "75%    4.000000e+04  0.000000e+00  \n",
              "max    1.000000e+08  6.000000e+02  "
            ],
            "text/html": [
              "\n",
              "  <div id=\"df-98efbd52-4c97-4cfb-afcb-5e5ef7ec855b\" class=\"colab-df-container\">\n",
              "    <div>\n",
              "<style scoped>\n",
              "    .dataframe tbody tr th:only-of-type {\n",
              "        vertical-align: middle;\n",
              "    }\n",
              "\n",
              "    .dataframe tbody tr th {\n",
              "        vertical-align: top;\n",
              "    }\n",
              "\n",
              "    .dataframe thead th {\n",
              "        text-align: right;\n",
              "    }\n",
              "</style>\n",
              "<table border=\"1\" class=\"dataframe\">\n",
              "  <thead>\n",
              "    <tr style=\"text-align: right;\">\n",
              "      <th></th>\n",
              "      <th>specialNeeds</th>\n",
              "      <th>roofDamage</th>\n",
              "      <th>foundationDamage</th>\n",
              "      <th>disasterNumber</th>\n",
              "      <th>householdComposition</th>\n",
              "      <th>destroyed</th>\n",
              "      <th>repairAmount</th>\n",
              "      <th>tsaEligible</th>\n",
              "      <th>grossIncome</th>\n",
              "      <th>waterLevel</th>\n",
              "    </tr>\n",
              "  </thead>\n",
              "  <tbody>\n",
              "    <tr>\n",
              "      <th>count</th>\n",
              "      <td>4.457134e+06</td>\n",
              "      <td>4.457134e+06</td>\n",
              "      <td>4.457134e+06</td>\n",
              "      <td>4.457134e+06</td>\n",
              "      <td>4.457134e+06</td>\n",
              "      <td>4.457134e+06</td>\n",
              "      <td>4.457134e+06</td>\n",
              "      <td>4.457134e+06</td>\n",
              "      <td>4.457134e+06</td>\n",
              "      <td>4.457134e+06</td>\n",
              "    </tr>\n",
              "    <tr>\n",
              "      <th>mean</th>\n",
              "      <td>3.383295e-02</td>\n",
              "      <td>3.646873e-02</td>\n",
              "      <td>5.457094e-03</td>\n",
              "      <td>4.398283e+03</td>\n",
              "      <td>2.256037e+00</td>\n",
              "      <td>1.803177e-03</td>\n",
              "      <td>3.610063e+02</td>\n",
              "      <td>3.857961e-01</td>\n",
              "      <td>4.813283e+04</td>\n",
              "      <td>8.398361e-01</td>\n",
              "    </tr>\n",
              "    <tr>\n",
              "      <th>std</th>\n",
              "      <td>1.807990e-01</td>\n",
              "      <td>1.874534e-01</td>\n",
              "      <td>7.367032e-02</td>\n",
              "      <td>1.087934e+02</td>\n",
              "      <td>1.458243e+00</td>\n",
              "      <td>4.242553e-02</td>\n",
              "      <td>2.188700e+03</td>\n",
              "      <td>4.867828e-01</td>\n",
              "      <td>5.556604e+05</td>\n",
              "      <td>5.497640e+00</td>\n",
              "    </tr>\n",
              "    <tr>\n",
              "      <th>min</th>\n",
              "      <td>0.000000e+00</td>\n",
              "      <td>0.000000e+00</td>\n",
              "      <td>0.000000e+00</td>\n",
              "      <td>4.332000e+03</td>\n",
              "      <td>1.000000e+00</td>\n",
              "      <td>0.000000e+00</td>\n",
              "      <td>0.000000e+00</td>\n",
              "      <td>0.000000e+00</td>\n",
              "      <td>0.000000e+00</td>\n",
              "      <td>0.000000e+00</td>\n",
              "    </tr>\n",
              "    <tr>\n",
              "      <th>25%</th>\n",
              "      <td>0.000000e+00</td>\n",
              "      <td>0.000000e+00</td>\n",
              "      <td>0.000000e+00</td>\n",
              "      <td>4.337000e+03</td>\n",
              "      <td>1.000000e+00</td>\n",
              "      <td>0.000000e+00</td>\n",
              "      <td>0.000000e+00</td>\n",
              "      <td>0.000000e+00</td>\n",
              "      <td>3.936000e+03</td>\n",
              "      <td>0.000000e+00</td>\n",
              "    </tr>\n",
              "    <tr>\n",
              "      <th>50%</th>\n",
              "      <td>0.000000e+00</td>\n",
              "      <td>0.000000e+00</td>\n",
              "      <td>0.000000e+00</td>\n",
              "      <td>4.337000e+03</td>\n",
              "      <td>2.000000e+00</td>\n",
              "      <td>0.000000e+00</td>\n",
              "      <td>0.000000e+00</td>\n",
              "      <td>0.000000e+00</td>\n",
              "      <td>2.000000e+04</td>\n",
              "      <td>0.000000e+00</td>\n",
              "    </tr>\n",
              "    <tr>\n",
              "      <th>75%</th>\n",
              "      <td>0.000000e+00</td>\n",
              "      <td>0.000000e+00</td>\n",
              "      <td>0.000000e+00</td>\n",
              "      <td>4.393000e+03</td>\n",
              "      <td>3.000000e+00</td>\n",
              "      <td>0.000000e+00</td>\n",
              "      <td>0.000000e+00</td>\n",
              "      <td>1.000000e+00</td>\n",
              "      <td>4.000000e+04</td>\n",
              "      <td>0.000000e+00</td>\n",
              "    </tr>\n",
              "    <tr>\n",
              "      <th>max</th>\n",
              "      <td>1.000000e+00</td>\n",
              "      <td>1.000000e+00</td>\n",
              "      <td>1.000000e+00</td>\n",
              "      <td>4.611000e+03</td>\n",
              "      <td>2.900000e+01</td>\n",
              "      <td>1.000000e+00</td>\n",
              "      <td>6.660000e+04</td>\n",
              "      <td>1.000000e+00</td>\n",
              "      <td>1.000000e+08</td>\n",
              "      <td>6.000000e+02</td>\n",
              "    </tr>\n",
              "  </tbody>\n",
              "</table>\n",
              "</div>\n",
              "    <div class=\"colab-df-buttons\">\n",
              "\n",
              "  <div class=\"colab-df-container\">\n",
              "    <button class=\"colab-df-convert\" onclick=\"convertToInteractive('df-98efbd52-4c97-4cfb-afcb-5e5ef7ec855b')\"\n",
              "            title=\"Convert this dataframe to an interactive table.\"\n",
              "            style=\"display:none;\">\n",
              "\n",
              "  <svg xmlns=\"http://www.w3.org/2000/svg\" height=\"24px\" viewBox=\"0 -960 960 960\">\n",
              "    <path d=\"M120-120v-720h720v720H120Zm60-500h600v-160H180v160Zm220 220h160v-160H400v160Zm0 220h160v-160H400v160ZM180-400h160v-160H180v160Zm440 0h160v-160H620v160ZM180-180h160v-160H180v160Zm440 0h160v-160H620v160Z\"/>\n",
              "  </svg>\n",
              "    </button>\n",
              "\n",
              "  <style>\n",
              "    .colab-df-container {\n",
              "      display:flex;\n",
              "      gap: 12px;\n",
              "    }\n",
              "\n",
              "    .colab-df-convert {\n",
              "      background-color: #E8F0FE;\n",
              "      border: none;\n",
              "      border-radius: 50%;\n",
              "      cursor: pointer;\n",
              "      display: none;\n",
              "      fill: #1967D2;\n",
              "      height: 32px;\n",
              "      padding: 0 0 0 0;\n",
              "      width: 32px;\n",
              "    }\n",
              "\n",
              "    .colab-df-convert:hover {\n",
              "      background-color: #E2EBFA;\n",
              "      box-shadow: 0px 1px 2px rgba(60, 64, 67, 0.3), 0px 1px 3px 1px rgba(60, 64, 67, 0.15);\n",
              "      fill: #174EA6;\n",
              "    }\n",
              "\n",
              "    .colab-df-buttons div {\n",
              "      margin-bottom: 4px;\n",
              "    }\n",
              "\n",
              "    [theme=dark] .colab-df-convert {\n",
              "      background-color: #3B4455;\n",
              "      fill: #D2E3FC;\n",
              "    }\n",
              "\n",
              "    [theme=dark] .colab-df-convert:hover {\n",
              "      background-color: #434B5C;\n",
              "      box-shadow: 0px 1px 3px 1px rgba(0, 0, 0, 0.15);\n",
              "      filter: drop-shadow(0px 1px 2px rgba(0, 0, 0, 0.3));\n",
              "      fill: #FFFFFF;\n",
              "    }\n",
              "  </style>\n",
              "\n",
              "    <script>\n",
              "      const buttonEl =\n",
              "        document.querySelector('#df-98efbd52-4c97-4cfb-afcb-5e5ef7ec855b button.colab-df-convert');\n",
              "      buttonEl.style.display =\n",
              "        google.colab.kernel.accessAllowed ? 'block' : 'none';\n",
              "\n",
              "      async function convertToInteractive(key) {\n",
              "        const element = document.querySelector('#df-98efbd52-4c97-4cfb-afcb-5e5ef7ec855b');\n",
              "        const dataTable =\n",
              "          await google.colab.kernel.invokeFunction('convertToInteractive',\n",
              "                                                    [key], {});\n",
              "        if (!dataTable) return;\n",
              "\n",
              "        const docLinkHtml = 'Like what you see? Visit the ' +\n",
              "          '<a target=\"_blank\" href=https://colab.research.google.com/notebooks/data_table.ipynb>data table notebook</a>'\n",
              "          + ' to learn more about interactive tables.';\n",
              "        element.innerHTML = '';\n",
              "        dataTable['output_type'] = 'display_data';\n",
              "        await google.colab.output.renderOutput(dataTable, element);\n",
              "        const docLink = document.createElement('div');\n",
              "        docLink.innerHTML = docLinkHtml;\n",
              "        element.appendChild(docLink);\n",
              "      }\n",
              "    </script>\n",
              "  </div>\n",
              "\n",
              "\n",
              "<div id=\"df-9f70df91-3130-47a6-ad46-d599f1edc345\">\n",
              "  <button class=\"colab-df-quickchart\" onclick=\"quickchart('df-9f70df91-3130-47a6-ad46-d599f1edc345')\"\n",
              "            title=\"Suggest charts\"\n",
              "            style=\"display:none;\">\n",
              "\n",
              "<svg xmlns=\"http://www.w3.org/2000/svg\" height=\"24px\"viewBox=\"0 0 24 24\"\n",
              "     width=\"24px\">\n",
              "    <g>\n",
              "        <path d=\"M19 3H5c-1.1 0-2 .9-2 2v14c0 1.1.9 2 2 2h14c1.1 0 2-.9 2-2V5c0-1.1-.9-2-2-2zM9 17H7v-7h2v7zm4 0h-2V7h2v10zm4 0h-2v-4h2v4z\"/>\n",
              "    </g>\n",
              "</svg>\n",
              "  </button>\n",
              "\n",
              "<style>\n",
              "  .colab-df-quickchart {\n",
              "      --bg-color: #E8F0FE;\n",
              "      --fill-color: #1967D2;\n",
              "      --hover-bg-color: #E2EBFA;\n",
              "      --hover-fill-color: #174EA6;\n",
              "      --disabled-fill-color: #AAA;\n",
              "      --disabled-bg-color: #DDD;\n",
              "  }\n",
              "\n",
              "  [theme=dark] .colab-df-quickchart {\n",
              "      --bg-color: #3B4455;\n",
              "      --fill-color: #D2E3FC;\n",
              "      --hover-bg-color: #434B5C;\n",
              "      --hover-fill-color: #FFFFFF;\n",
              "      --disabled-bg-color: #3B4455;\n",
              "      --disabled-fill-color: #666;\n",
              "  }\n",
              "\n",
              "  .colab-df-quickchart {\n",
              "    background-color: var(--bg-color);\n",
              "    border: none;\n",
              "    border-radius: 50%;\n",
              "    cursor: pointer;\n",
              "    display: none;\n",
              "    fill: var(--fill-color);\n",
              "    height: 32px;\n",
              "    padding: 0;\n",
              "    width: 32px;\n",
              "  }\n",
              "\n",
              "  .colab-df-quickchart:hover {\n",
              "    background-color: var(--hover-bg-color);\n",
              "    box-shadow: 0 1px 2px rgba(60, 64, 67, 0.3), 0 1px 3px 1px rgba(60, 64, 67, 0.15);\n",
              "    fill: var(--button-hover-fill-color);\n",
              "  }\n",
              "\n",
              "  .colab-df-quickchart-complete:disabled,\n",
              "  .colab-df-quickchart-complete:disabled:hover {\n",
              "    background-color: var(--disabled-bg-color);\n",
              "    fill: var(--disabled-fill-color);\n",
              "    box-shadow: none;\n",
              "  }\n",
              "\n",
              "  .colab-df-spinner {\n",
              "    border: 2px solid var(--fill-color);\n",
              "    border-color: transparent;\n",
              "    border-bottom-color: var(--fill-color);\n",
              "    animation:\n",
              "      spin 1s steps(1) infinite;\n",
              "  }\n",
              "\n",
              "  @keyframes spin {\n",
              "    0% {\n",
              "      border-color: transparent;\n",
              "      border-bottom-color: var(--fill-color);\n",
              "      border-left-color: var(--fill-color);\n",
              "    }\n",
              "    20% {\n",
              "      border-color: transparent;\n",
              "      border-left-color: var(--fill-color);\n",
              "      border-top-color: var(--fill-color);\n",
              "    }\n",
              "    30% {\n",
              "      border-color: transparent;\n",
              "      border-left-color: var(--fill-color);\n",
              "      border-top-color: var(--fill-color);\n",
              "      border-right-color: var(--fill-color);\n",
              "    }\n",
              "    40% {\n",
              "      border-color: transparent;\n",
              "      border-right-color: var(--fill-color);\n",
              "      border-top-color: var(--fill-color);\n",
              "    }\n",
              "    60% {\n",
              "      border-color: transparent;\n",
              "      border-right-color: var(--fill-color);\n",
              "    }\n",
              "    80% {\n",
              "      border-color: transparent;\n",
              "      border-right-color: var(--fill-color);\n",
              "      border-bottom-color: var(--fill-color);\n",
              "    }\n",
              "    90% {\n",
              "      border-color: transparent;\n",
              "      border-bottom-color: var(--fill-color);\n",
              "    }\n",
              "  }\n",
              "</style>\n",
              "\n",
              "  <script>\n",
              "    async function quickchart(key) {\n",
              "      const quickchartButtonEl =\n",
              "        document.querySelector('#' + key + ' button');\n",
              "      quickchartButtonEl.disabled = true;  // To prevent multiple clicks.\n",
              "      quickchartButtonEl.classList.add('colab-df-spinner');\n",
              "      try {\n",
              "        const charts = await google.colab.kernel.invokeFunction(\n",
              "            'suggestCharts', [key], {});\n",
              "      } catch (error) {\n",
              "        console.error('Error during call to suggestCharts:', error);\n",
              "      }\n",
              "      quickchartButtonEl.classList.remove('colab-df-spinner');\n",
              "      quickchartButtonEl.classList.add('colab-df-quickchart-complete');\n",
              "    }\n",
              "    (() => {\n",
              "      let quickchartButtonEl =\n",
              "        document.querySelector('#df-9f70df91-3130-47a6-ad46-d599f1edc345 button');\n",
              "      quickchartButtonEl.style.display =\n",
              "        google.colab.kernel.accessAllowed ? 'block' : 'none';\n",
              "    })();\n",
              "  </script>\n",
              "</div>\n",
              "\n",
              "    </div>\n",
              "  </div>\n"
            ],
            "application/vnd.google.colaboratory.intrinsic+json": {
              "type": "dataframe",
              "summary": "{\n  \"name\": \"df\",\n  \"rows\": 8,\n  \"fields\": [\n    {\n      \"column\": \"specialNeeds\",\n      \"properties\": {\n        \"dtype\": \"number\",\n        \"std\": 1575834.7766804183,\n        \"min\": 0.0,\n        \"max\": 4457134.0,\n        \"num_unique_values\": 5,\n        \"samples\": [\n          0.033832951847532516,\n          1.0,\n          0.1807990335979913\n        ],\n        \"semantic_type\": \"\",\n        \"description\": \"\"\n      }\n    },\n    {\n      \"column\": \"roofDamage\",\n      \"properties\": {\n        \"dtype\": \"number\",\n        \"std\": 1575834.776211197,\n        \"min\": 0.0,\n        \"max\": 4457134.0,\n        \"num_unique_values\": 5,\n        \"samples\": [\n          0.03646872631605871,\n          1.0,\n          0.18745337073210153\n        ],\n        \"semantic_type\": \"\",\n        \"description\": \"\"\n      }\n    },\n    {\n      \"column\": \"foundationDamage\",\n      \"properties\": {\n        \"dtype\": \"number\",\n        \"std\": 1575834.7835244338,\n        \"min\": 0.0,\n        \"max\": 4457134.0,\n        \"num_unique_values\": 5,\n        \"samples\": [\n          0.005457094177558942,\n          1.0,\n          0.07367031639583822\n        ],\n        \"semantic_type\": \"\",\n        \"description\": \"\"\n      }\n    },\n    {\n      \"column\": \"disasterNumber\",\n      \"properties\": {\n        \"dtype\": \"number\",\n        \"std\": 1574496.2425148904,\n        \"min\": 108.79343171048805,\n        \"max\": 4457134.0,\n        \"num_unique_values\": 7,\n        \"samples\": [\n          4457134.0,\n          4398.28305790223,\n          4393.0\n        ],\n        \"semantic_type\": \"\",\n        \"description\": \"\"\n      }\n    },\n    {\n      \"column\": \"householdComposition\",\n      \"properties\": {\n        \"dtype\": \"number\",\n        \"std\": 1575832.8321833836,\n        \"min\": 1.0,\n        \"max\": 4457134.0,\n        \"num_unique_values\": 7,\n        \"samples\": [\n          4457134.0,\n          2.25603739981791,\n          3.0\n        ],\n        \"semantic_type\": \"\",\n        \"description\": \"\"\n      }\n    },\n    {\n      \"column\": \"destroyed\",\n      \"properties\": {\n        \"dtype\": \"number\",\n        \"std\": 1575834.7852870845,\n        \"min\": 0.0,\n        \"max\": 4457134.0,\n        \"num_unique_values\": 5,\n        \"samples\": [\n          0.0018031766601587478,\n          1.0,\n          0.04242553026282293\n        ],\n        \"semantic_type\": \"\",\n        \"description\": \"\"\n      }\n    },\n    {\n      \"column\": \"repairAmount\",\n      \"properties\": {\n        \"dtype\": \"number\",\n        \"std\": 1572512.9320685132,\n        \"min\": 0.0,\n        \"max\": 4457134.0,\n        \"num_unique_values\": 5,\n        \"samples\": [\n          361.0063272542401,\n          66600.0,\n          2188.7002305031274\n        ],\n        \"semantic_type\": \"\",\n        \"description\": \"\"\n      }\n    },\n    {\n      \"column\": \"tsaEligible\",\n      \"properties\": {\n        \"dtype\": \"number\",\n        \"std\": 1575834.6929414684,\n        \"min\": 0.0,\n        \"max\": 4457134.0,\n        \"num_unique_values\": 5,\n        \"samples\": [\n          0.3857961192102369,\n          1.0,\n          0.48678283326927857\n        ],\n        \"semantic_type\": \"\",\n        \"description\": \"\"\n      }\n    },\n    {\n      \"column\": \"grossIncome\",\n      \"properties\": {\n        \"dtype\": \"number\",\n        \"std\": 35129910.64028977,\n        \"min\": 0.0,\n        \"max\": 99999999.0,\n        \"num_unique_values\": 8,\n        \"samples\": [\n          48132.828714371164,\n          20000.0,\n          4457134.0\n        ],\n        \"semantic_type\": \"\",\n        \"description\": \"\"\n      }\n    },\n    {\n      \"column\": \"waterLevel\",\n      \"properties\": {\n        \"dtype\": \"number\",\n        \"std\": 1575804.227300273,\n        \"min\": 0.0,\n        \"max\": 4457134.0,\n        \"num_unique_values\": 5,\n        \"samples\": [\n          0.8398360919819776,\n          600.0,\n          5.497639889380414\n        ],\n        \"semantic_type\": \"\",\n        \"description\": \"\"\n      }\n    }\n  ]\n}"
            }
          },
          "metadata": {},
          "execution_count": 31
        }
      ]
    },
    {
      "cell_type": "code",
      "source": [
        "#Check for missing values\n",
        "df.isnull().sum()"
      ],
      "metadata": {
        "colab": {
          "base_uri": "https://localhost:8080/",
          "height": 492
        },
        "id": "oHvLYNXSTJD3",
        "outputId": "2a5b17b3-0562-42f9-91fa-415112200600"
      },
      "execution_count": null,
      "outputs": [
        {
          "output_type": "execute_result",
          "data": {
            "text/plain": [
              "specialNeeds                0\n",
              "damagedCity                 0\n",
              "damagedStateAbbreviation    0\n",
              "roofDamage                  0\n",
              "foundationDamage            0\n",
              "disasterNumber              0\n",
              "householdComposition        0\n",
              "destroyed                   0\n",
              "residenceType               0\n",
              "repairAmount                0\n",
              "tsaEligible                 0\n",
              "grossIncome                 0\n",
              "waterLevel                  0\n",
              "dtype: int64"
            ],
            "text/html": [
              "<div>\n",
              "<style scoped>\n",
              "    .dataframe tbody tr th:only-of-type {\n",
              "        vertical-align: middle;\n",
              "    }\n",
              "\n",
              "    .dataframe tbody tr th {\n",
              "        vertical-align: top;\n",
              "    }\n",
              "\n",
              "    .dataframe thead th {\n",
              "        text-align: right;\n",
              "    }\n",
              "</style>\n",
              "<table border=\"1\" class=\"dataframe\">\n",
              "  <thead>\n",
              "    <tr style=\"text-align: right;\">\n",
              "      <th></th>\n",
              "      <th>0</th>\n",
              "    </tr>\n",
              "  </thead>\n",
              "  <tbody>\n",
              "    <tr>\n",
              "      <th>specialNeeds</th>\n",
              "      <td>0</td>\n",
              "    </tr>\n",
              "    <tr>\n",
              "      <th>damagedCity</th>\n",
              "      <td>0</td>\n",
              "    </tr>\n",
              "    <tr>\n",
              "      <th>damagedStateAbbreviation</th>\n",
              "      <td>0</td>\n",
              "    </tr>\n",
              "    <tr>\n",
              "      <th>roofDamage</th>\n",
              "      <td>0</td>\n",
              "    </tr>\n",
              "    <tr>\n",
              "      <th>foundationDamage</th>\n",
              "      <td>0</td>\n",
              "    </tr>\n",
              "    <tr>\n",
              "      <th>disasterNumber</th>\n",
              "      <td>0</td>\n",
              "    </tr>\n",
              "    <tr>\n",
              "      <th>householdComposition</th>\n",
              "      <td>0</td>\n",
              "    </tr>\n",
              "    <tr>\n",
              "      <th>destroyed</th>\n",
              "      <td>0</td>\n",
              "    </tr>\n",
              "    <tr>\n",
              "      <th>residenceType</th>\n",
              "      <td>0</td>\n",
              "    </tr>\n",
              "    <tr>\n",
              "      <th>repairAmount</th>\n",
              "      <td>0</td>\n",
              "    </tr>\n",
              "    <tr>\n",
              "      <th>tsaEligible</th>\n",
              "      <td>0</td>\n",
              "    </tr>\n",
              "    <tr>\n",
              "      <th>grossIncome</th>\n",
              "      <td>0</td>\n",
              "    </tr>\n",
              "    <tr>\n",
              "      <th>waterLevel</th>\n",
              "      <td>0</td>\n",
              "    </tr>\n",
              "  </tbody>\n",
              "</table>\n",
              "</div><br><label><b>dtype:</b> int64</label>"
            ]
          },
          "metadata": {},
          "execution_count": 32
        }
      ]
    },
    {
      "cell_type": "code",
      "source": [
        "# Drop rows with any missing values\n",
        "df = df.dropna()\n"
      ],
      "metadata": {
        "id": "GGMibgMkkJNJ"
      },
      "execution_count": null,
      "outputs": []
    },
    {
      "cell_type": "markdown",
      "source": [
        "### Descriptive Analysis ###\n",
        "\n"
      ],
      "metadata": {
        "id": "RFTetu1od_NE"
      }
    },
    {
      "cell_type": "code",
      "source": [
        "# Total cases where TSA was used\n",
        "tsa_cases_by_state = df[df['tsaEligible'] == 1].groupby('damagedStateAbbreviation').size()\n",
        "print(tsa_cases_by_state)"
      ],
      "metadata": {
        "id": "SJKrxni4WAAi",
        "colab": {
          "base_uri": "https://localhost:8080/"
        },
        "outputId": "3c045b27-f1dd-4bd7-fdb2-16f9bfa57b49"
      },
      "execution_count": null,
      "outputs": [
        {
          "output_type": "stream",
          "name": "stdout",
          "text": [
            "damagedStateAbbreviation\n",
            "CA         1\n",
            "FL    620821\n",
            "GA         1\n",
            "LA    110741\n",
            "MD         1\n",
            "NC      4364\n",
            "PR    721230\n",
            "TX    262383\n",
            "VI         3\n",
            "dtype: int64\n"
          ]
        }
      ]
    },
    {
      "cell_type": "code",
      "source": [
        "#Average household income where TSA was used\n",
        "income_tsa_used = df[df['tsaEligible'] == 1]['grossIncome'].mean()\n",
        "print(income_tsa_used)"
      ],
      "metadata": {
        "colab": {
          "base_uri": "https://localhost:8080/"
        },
        "id": "kSYzKSm2XhvC",
        "outputId": "d20e6452-2a5f-4a37-dd7a-0c1591bda2b5"
      },
      "execution_count": null,
      "outputs": [
        {
          "output_type": "stream",
          "name": "stdout",
          "text": [
            "43569.614727733206\n"
          ]
        }
      ]
    },
    {
      "cell_type": "code",
      "source": [
        "#Average houshold income where TSA was not used\n",
        "income_tsa_not_used = df[df['tsaEligible'] == 0]['grossIncome'].mean()\n",
        "print(income_tsa_not_used)"
      ],
      "metadata": {
        "colab": {
          "base_uri": "https://localhost:8080/"
        },
        "id": "t1mKJwN1Yfk5",
        "outputId": "83d0f866-4632-445e-c22e-b6cb6bcf7118"
      },
      "execution_count": null,
      "outputs": [
        {
          "output_type": "stream",
          "name": "stdout",
          "text": [
            "50999.09234804786\n"
          ]
        }
      ]
    },
    {
      "cell_type": "code",
      "source": [
        "#Average family size where TSA was used\n",
        "family_size_tsa_used = df[df['tsaEligible'] == 1]['householdComposition'].mean()\n",
        "print(family_size_tsa_used)"
      ],
      "metadata": {
        "colab": {
          "base_uri": "https://localhost:8080/"
        },
        "id": "F2orNAFuY1WD",
        "outputId": "38e1c608-fe75-4673-d4ed-9c5ab1017cde"
      },
      "execution_count": null,
      "outputs": [
        {
          "output_type": "stream",
          "name": "stdout",
          "text": [
            "2.219124245076459\n"
          ]
        }
      ]
    },
    {
      "cell_type": "code",
      "source": [
        "#Average familt size where TSA was not used\n",
        "family_size_tsa_not_used = df[df['tsaEligible'] == 0]['householdComposition'].mean()\n",
        "print(family_size_tsa_not_used)"
      ],
      "metadata": {
        "colab": {
          "base_uri": "https://localhost:8080/"
        },
        "id": "hKq-9GNKZaWJ",
        "outputId": "cb2ef94c-4dc0-4598-aa79-98dc7c925d42"
      },
      "execution_count": null,
      "outputs": [
        {
          "output_type": "stream",
          "name": "stdout",
          "text": [
            "2.279223433466455\n"
          ]
        }
      ]
    },
    {
      "cell_type": "code",
      "source": [
        "#Assessing if water level was a factor in TSA approval\n",
        "water_level_tsa = df.groupby('tsaEligible')['waterLevel'].size()\n",
        "print(water_level_tsa)"
      ],
      "metadata": {
        "colab": {
          "base_uri": "https://localhost:8080/"
        },
        "id": "95pxnER7Z9hH",
        "outputId": "46c952ce-b8a4-4447-a12f-6ffb966360f3"
      },
      "execution_count": null,
      "outputs": [
        {
          "output_type": "stream",
          "name": "stdout",
          "text": [
            "tsaEligible\n",
            "0    2737589\n",
            "1    1719545\n",
            "Name: waterLevel, dtype: int64\n"
          ]
        }
      ]
    },
    {
      "cell_type": "code",
      "source": [
        "#Average cost of repairs where TSA was used\n",
        "repairs_cost_tsa_used = df[df['tsaEligible'] == 1]['repairAmount'].mean()\n",
        "print(repairs_cost_tsa_used)"
      ],
      "metadata": {
        "colab": {
          "base_uri": "https://localhost:8080/"
        },
        "id": "ErilpD_Na4pC",
        "outputId": "e9f1ab77-2da4-4bbc-e783-dedfedcb3d97"
      },
      "execution_count": null,
      "outputs": [
        {
          "output_type": "stream",
          "name": "stdout",
          "text": [
            "579.8480307813984\n"
          ]
        }
      ]
    },
    {
      "cell_type": "code",
      "source": [
        "#Average cost of repairs where TSA was not used\n",
        "repairs_cost_tsa_not_used = df[df['tsaEligible'] == 0]['repairAmount'].mean()\n",
        "print(repairs_cost_tsa_not_used)"
      ],
      "metadata": {
        "colab": {
          "base_uri": "https://localhost:8080/"
        },
        "id": "wVxhHjWgbPVN",
        "outputId": "a3a8d697-d07e-45da-b04c-a5779190b718"
      },
      "execution_count": null,
      "outputs": [
        {
          "output_type": "stream",
          "name": "stdout",
          "text": [
            "223.54662928949514\n"
          ]
        }
      ]
    },
    {
      "cell_type": "code",
      "source": [
        "#Count of TSA uses by residence type\n",
        "tsa_by_residence_type = df.groupby('residenceType').size()\n",
        "print(tsa_by_residence_type)"
      ],
      "metadata": {
        "id": "MWyK8XYEbVAG",
        "colab": {
          "base_uri": "https://localhost:8080/"
        },
        "outputId": "8ba5339e-eb5b-4bd5-f96d-8c8ffd1aa933"
      },
      "execution_count": null,
      "outputs": [
        {
          "output_type": "stream",
          "name": "stdout",
          "text": [
            "residenceType\n",
            "Apartment                    861144\n",
            "Assisted Living Facility       5789\n",
            "Boat                           3010\n",
            "College Dorm                   1547\n",
            "Condo                        124421\n",
            "Correctional Facility           434\n",
            "House/Duplex                2744981\n",
            "Military Housing               2217\n",
            "Mobile Home                  321032\n",
            "Other                        177973\n",
            "Townhouse                    186895\n",
            "Travel Trailer                27478\n",
            "Unknown                         213\n",
            "dtype: int64\n"
          ]
        }
      ]
    },
    {
      "cell_type": "code",
      "source": [
        "#Average foundation damage by TSA eligibility\n",
        "foundation_damage_by_tsa = df.groupby('tsaEligible')['foundationDamage'].mean()\n",
        "print(foundation_damage_by_tsa)"
      ],
      "metadata": {
        "colab": {
          "base_uri": "https://localhost:8080/"
        },
        "id": "tvpULAIjd5f3",
        "outputId": "89eb18ac-fa2f-4519-d1e4-cf0129bb294c"
      },
      "execution_count": null,
      "outputs": [
        {
          "output_type": "stream",
          "name": "stdout",
          "text": [
            "tsaEligible\n",
            "0    0.003868\n",
            "1    0.007988\n",
            "Name: foundationDamage, dtype: float64\n"
          ]
        }
      ]
    },
    {
      "cell_type": "code",
      "source": [
        "#Average roof damage by TSA eligibility\n",
        "roof_damage_by_tsa = df.groupby('tsaEligible')['roofDamage'].mean()\n",
        "print(roof_damage_by_tsa)"
      ],
      "metadata": {
        "colab": {
          "base_uri": "https://localhost:8080/"
        },
        "id": "JU0uiBgKfNAP",
        "outputId": "f2ae3952-0ecb-49ff-8622-0216db483654"
      },
      "execution_count": null,
      "outputs": [
        {
          "output_type": "stream",
          "name": "stdout",
          "text": [
            "tsaEligible\n",
            "0    0.021370\n",
            "1    0.060507\n",
            "Name: roofDamage, dtype: float64\n"
          ]
        }
      ]
    },
    {
      "cell_type": "markdown",
      "source": [
        "### Disaster-Specific Analysis ###"
      ],
      "metadata": {
        "id": "-cJTET3YeOM0"
      }
    },
    {
      "cell_type": "code",
      "source": [
        "#Hurricane Irma cases\n",
        "hurricane_irma = df[df['disasterNumber'] == 4337]\n",
        "\n",
        "#Total TSA cases for hurricane Irma\n",
        "irma_tsa_cases = hurricane_irma['tsaEligible'].sum()\n",
        "print(irma_tsa_cases)\n",
        "\n",
        "#Average repair cost for hurrican Irma\n",
        "irma_repair_cost = hurricane_irma['repairAmount'].mean()\n",
        "print(irma_repair_cost)"
      ],
      "metadata": {
        "colab": {
          "base_uri": "https://localhost:8080/"
        },
        "id": "Q5VT1P2FgnDc",
        "outputId": "1807d511-089d-4934-86c9-d05010925320"
      },
      "execution_count": null,
      "outputs": [
        {
          "output_type": "stream",
          "name": "stdout",
          "text": [
            "615112\n",
            "71.33926395344069\n"
          ]
        }
      ]
    },
    {
      "cell_type": "code",
      "source": [
        "#Hurricane Maria cases\n",
        "hurricane_maria = df[df['disasterNumber'] == 4339]\n",
        "\n",
        "#Total TSA cases for hurricane Maria\n",
        "maria_tsa_cases = hurricane_maria['tsaEligible'].sum()\n",
        "print(maria_tsa_cases)\n",
        "\n",
        "#Average repair cost for hurricane Maria\n",
        "maria_repair_cost = hurricane_maria['repairAmount'].mean()\n",
        "print(maria_repair_cost)"
      ],
      "metadata": {
        "colab": {
          "base_uri": "https://localhost:8080/"
        },
        "id": "3IY9jXrNiMDq",
        "outputId": "e400e4be-ea32-4fcf-da10-731e0cf838bf"
      },
      "execution_count": null,
      "outputs": [
        {
          "output_type": "stream",
          "name": "stdout",
          "text": [
            "721232\n",
            "491.19281078378606\n"
          ]
        }
      ]
    },
    {
      "cell_type": "code",
      "source": [
        "#Hurricane Harvey cases\n",
        "hurricane_harvey = df[df['disasterNumber'] == 4332]\n",
        "\n",
        "#Total TSA cases for hurricane Harvey\n",
        "harvey_tsa_cases = hurricane_harvey['tsaEligible'].sum()\n",
        "print(harvey_tsa_cases)\n",
        "\n",
        "#Average repair cost for hurricane Harvey\n",
        "harvey_repair_cost = hurricane_harvey['repairAmount'].mean()\n",
        "print(harvey_repair_cost)"
      ],
      "metadata": {
        "colab": {
          "base_uri": "https://localhost:8080/"
        },
        "id": "suL67zjMierz",
        "outputId": "e1071a1e-be71-4532-cca4-2fe3b78ea852"
      },
      "execution_count": null,
      "outputs": [
        {
          "output_type": "stream",
          "name": "stdout",
          "text": [
            "262385\n",
            "1003.5423508401957\n"
          ]
        }
      ]
    },
    {
      "cell_type": "code",
      "source": [
        "#Hurricane Ida cases\n",
        "hurricane_ida = df[df['disasterNumber'] == 4611]\n",
        "\n",
        "#Total TSA cases for hurricane Ida\n",
        "ida_tsa_cases = hurricane_ida['tsaEligible'].sum()\n",
        "print(ida_tsa_cases)\n",
        "\n",
        "#Average repair cost for hurricane Ida\n",
        "ida_repair_cost = hurricane_ida['repairAmount'].mean()\n",
        "print(ida_repair_cost)"
      ],
      "metadata": {
        "colab": {
          "base_uri": "https://localhost:8080/"
        },
        "id": "9DmcL5coi3V4",
        "outputId": "33b940bb-aa4b-4e28-ab15-22060d353c22"
      },
      "execution_count": null,
      "outputs": [
        {
          "output_type": "stream",
          "name": "stdout",
          "text": [
            "110740\n",
            "446.57724570253197\n"
          ]
        }
      ]
    },
    {
      "cell_type": "code",
      "source": [
        "#Texas winter storm cases\n",
        "texas_winter_storm = df[df['disasterNumber'] ==  4586]\n",
        "\n",
        "#Total TSA cases for Texas Winter Storm\n",
        "texas_storm_tsa_cases = texas_winter_storm['tsaEligible'].sum()\n",
        "print(texas_winter_storm)\n",
        "\n",
        "#Average repair cost for Texas Winter Storm\n",
        "texas_storm_repair_cost = texas_winter_storm['repairAmount'].mean()\n",
        "print(texas_storm_repair_cost)"
      ],
      "metadata": {
        "colab": {
          "base_uri": "https://localhost:8080/"
        },
        "id": "IdPDNCQAkr_Z",
        "outputId": "863d0b72-de62-44ba-bc6f-1a7c790bc378"
      },
      "execution_count": null,
      "outputs": [
        {
          "output_type": "stream",
          "name": "stdout",
          "text": [
            "         specialNeeds     damagedCity damagedStateAbbreviation  roofDamage  \\\n",
            "10                  0         HOUSTON                       TX           0   \n",
            "52                  1         HOUSTON                       TX           0   \n",
            "53                  0   GRAND PRAIRIE                       TX           0   \n",
            "92                  0         GARLAND                       TX           0   \n",
            "105                 0      SUGAR LAND                       TX           0   \n",
            "...               ...             ...                      ...         ...   \n",
            "4457101             0         CYPRESS                       TX           0   \n",
            "4457102             0  CORPUS CHRISTI                       TX           0   \n",
            "4457111             1         HOUSTON                       TX           0   \n",
            "4457112             0       ARLINGTON                       TX           0   \n",
            "4457132             0          AUSTIN                       TX           0   \n",
            "\n",
            "         foundationDamage  disasterNumber  householdComposition  destroyed  \\\n",
            "10                      0            4586                     3          0   \n",
            "52                      0            4586                     5          0   \n",
            "53                      0            4586                     1          0   \n",
            "92                      0            4586                     4          0   \n",
            "105                     0            4586                     1          0   \n",
            "...                   ...             ...                   ...        ...   \n",
            "4457101                 0            4586                     6          0   \n",
            "4457102                 0            4586                     1          0   \n",
            "4457111                 0            4586                     2          0   \n",
            "4457112                 0            4586                     5          0   \n",
            "4457132                 0            4586                     1          0   \n",
            "\n",
            "        residenceType  repairAmount  tsaEligible  grossIncome  waterLevel  \n",
            "10       House/Duplex          0.00            0       4500.0         0.0  \n",
            "52       House/Duplex          0.00            0      26260.0         0.0  \n",
            "53       House/Duplex          0.00            0          0.0         0.0  \n",
            "92          Apartment          0.00            0      44000.0         0.0  \n",
            "105      House/Duplex          0.00            0      22000.0         0.0  \n",
            "...               ...           ...          ...          ...         ...  \n",
            "4457101  House/Duplex          0.00            0          0.0         0.0  \n",
            "4457102  House/Duplex          0.00            0      72000.0         0.0  \n",
            "4457111  House/Duplex       5337.02            0       4956.0         0.0  \n",
            "4457112  House/Duplex       1042.40            0     105000.0         0.0  \n",
            "4457132     Apartment          0.00            0      35800.0         0.0  \n",
            "\n",
            "[292681 rows x 13 columns]\n",
            "177.6593159104964\n"
          ]
        }
      ]
    },
    {
      "cell_type": "code",
      "source": [
        "#Hurricane Laura cases\n",
        "hurricane_laura = df[df['disasterNumber'] == 4559]\n",
        "\n",
        "#Total TSA cases for hurricane Laura\n",
        "laura_tsa_cases = hurricane_laura['tsaEligible'].sum()\n",
        "print(laura_tsa_cases)\n",
        "\n",
        "#Average repair cost for hurricane Laura\n",
        "laura_repair_cost = hurricane_laura['repairAmount'].mean()\n",
        "print(laura_repair_cost)"
      ],
      "metadata": {
        "colab": {
          "base_uri": "https://localhost:8080/"
        },
        "id": "uEeVedeDl4VO",
        "outputId": "35c1a988-710a-4294-accb-02841bcc68f8"
      },
      "execution_count": null,
      "outputs": [
        {
          "output_type": "stream",
          "name": "stdout",
          "text": [
            "0\n",
            "402.75644986484014\n"
          ]
        }
      ]
    },
    {
      "cell_type": "code",
      "source": [
        "#Hurricane Florence cases\n",
        "hurricane_florence = df[df['disasterNumber'] == 4393]\n",
        "\n",
        "#Total TSA cases for hurricane Florence\n",
        "florence_tsa_cases = hurricane_florence['tsaEligible'].sum()\n",
        "print(florence_tsa_cases)\n",
        "\n",
        "#Average repair cost for hurricane Florence\n",
        "florence_repair_cost = hurricane_florence['repairAmount'].mean()\n",
        "print(florence_repair_cost)"
      ],
      "metadata": {
        "colab": {
          "base_uri": "https://localhost:8080/"
        },
        "id": "9__u1jHtmjti",
        "outputId": "7dd071aa-6488-4a85-c9bb-86a87ced1c9c"
      },
      "execution_count": null,
      "outputs": [
        {
          "output_type": "stream",
          "name": "stdout",
          "text": [
            "4364\n",
            "502.82649339595554\n"
          ]
        }
      ]
    },
    {
      "cell_type": "code",
      "source": [
        "#Hurricane Micheal cases\n",
        "hurricane_michael = df[df['disasterNumber'] ==  4399]\n",
        "\n",
        "#Total TSA cases for hurricane Micheal\n",
        "michael_tsa_cases = hurricane_michael['tsaEligible'].sum()\n",
        "print(michael_tsa_cases)\n",
        "\n",
        "#Average repair cost for hurricane Micheal\n",
        "michael_repair_cost = hurricane_michael['repairAmount'].mean()\n",
        "print(michael_repair_cost)"
      ],
      "metadata": {
        "colab": {
          "base_uri": "https://localhost:8080/"
        },
        "id": "fc97zpr5m0Jj",
        "outputId": "df4bdaa0-9a52-4b53-d49f-043bdfb05e0c"
      },
      "execution_count": null,
      "outputs": [
        {
          "output_type": "stream",
          "name": "stdout",
          "text": [
            "5712\n",
            "573.8608488987819\n"
          ]
        }
      ]
    }
  ]
}